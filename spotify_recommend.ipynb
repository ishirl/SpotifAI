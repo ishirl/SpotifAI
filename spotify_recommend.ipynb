{
  "nbformat": 4,
  "nbformat_minor": 0,
  "metadata": {
    "colab": {
      "provenance": [],
      "gpuType": "T4",
      "authorship_tag": "ABX9TyNWTaxhWvsGfxgcljwUVdeF"
    },
    "kernelspec": {
      "name": "python3",
      "display_name": "Python 3"
    },
    "language_info": {
      "name": "python"
    },
    "accelerator": "GPU"
  },
  "cells": [
    {
      "cell_type": "code",
      "execution_count": null,
      "metadata": {
        "id": "ApM1H5tl-Kw6",
        "colab": {
          "base_uri": "https://localhost:8080/"
        },
        "outputId": "88247e97-dcdb-46d9-8655-ba9f8a12f42a"
      },
      "outputs": [
        {
          "output_type": "stream",
          "name": "stdout",
          "text": [
            "Requirement already satisfied: opendatasets in /usr/local/lib/python3.10/dist-packages (0.1.22)\n",
            "Requirement already satisfied: tqdm in /usr/local/lib/python3.10/dist-packages (from opendatasets) (4.66.1)\n",
            "Requirement already satisfied: kaggle in /usr/local/lib/python3.10/dist-packages (from opendatasets) (1.5.16)\n",
            "Requirement already satisfied: click in /usr/local/lib/python3.10/dist-packages (from opendatasets) (8.1.7)\n",
            "Requirement already satisfied: six>=1.10 in /usr/local/lib/python3.10/dist-packages (from kaggle->opendatasets) (1.16.0)\n",
            "Requirement already satisfied: certifi in /usr/local/lib/python3.10/dist-packages (from kaggle->opendatasets) (2023.11.17)\n",
            "Requirement already satisfied: python-dateutil in /usr/local/lib/python3.10/dist-packages (from kaggle->opendatasets) (2.8.2)\n",
            "Requirement already satisfied: requests in /usr/local/lib/python3.10/dist-packages (from kaggle->opendatasets) (2.31.0)\n",
            "Requirement already satisfied: python-slugify in /usr/local/lib/python3.10/dist-packages (from kaggle->opendatasets) (8.0.1)\n",
            "Requirement already satisfied: urllib3 in /usr/local/lib/python3.10/dist-packages (from kaggle->opendatasets) (2.0.7)\n",
            "Requirement already satisfied: bleach in /usr/local/lib/python3.10/dist-packages (from kaggle->opendatasets) (6.1.0)\n",
            "Requirement already satisfied: webencodings in /usr/local/lib/python3.10/dist-packages (from bleach->kaggle->opendatasets) (0.5.1)\n",
            "Requirement already satisfied: text-unidecode>=1.3 in /usr/local/lib/python3.10/dist-packages (from python-slugify->kaggle->opendatasets) (1.3)\n",
            "Requirement already satisfied: charset-normalizer<4,>=2 in /usr/local/lib/python3.10/dist-packages (from requests->kaggle->opendatasets) (3.3.2)\n",
            "Requirement already satisfied: idna<4,>=2.5 in /usr/local/lib/python3.10/dist-packages (from requests->kaggle->opendatasets) (3.6)\n",
            "Skipping, found downloaded files in \"./face-expression-recognition-dataset\" (use force=True to force download)\n"
          ]
        }
      ],
      "source": [
        "!pip install opendatasets\n",
        "import opendatasets as od\n",
        "od.download(\"https://www.kaggle.com/datasets/jonathanoheix/face-expression-recognition-dataset/\")"
      ]
    },
    {
      "cell_type": "code",
      "source": [
        "import numpy as np\n",
        "import pandas as pd\n",
        "import os\n",
        "import matplotlib.pyplot as plt\n",
        "import seaborn as sns"
      ],
      "metadata": {
        "id": "FhoMICfou7Mm"
      },
      "execution_count": null,
      "outputs": []
    },
    {
      "cell_type": "code",
      "source": [
        "from tensorflow.keras.preprocessing.image import load_img, img_to_array\n",
        "from tensorflow.keras.preprocessing.image import ImageDataGenerator\n",
        "from keras.layers import Dense, Input, Dropout, GlobalAveragePooling2D\n",
        "from keras.layers import Flatten\n",
        "from keras.layers import Conv2D\n",
        "from keras.layers import BatchNormalization\n",
        "from keras.layers import Activation\n",
        "from keras.layers import MaxPooling2D\n",
        "from keras.models import Model, Sequential\n",
        "from tensorflow.keras.optimizers import Adam"
      ],
      "metadata": {
        "id": "StCbTt2rxUzJ"
      },
      "execution_count": null,
      "outputs": []
    },
    {
      "cell_type": "code",
      "source": [
        "#set up variables\n",
        "folder_path = \"/content/face-expression-recognition-dataset/images/\"\n",
        "picture_size = 48\n",
        "batch_size  = 128\n",
        "\n",
        "#train test splot\n",
        "datagen_train  = ImageDataGenerator()\n",
        "datagen_val = ImageDataGenerator()\n",
        "train_set = datagen_train.flow_from_directory(folder_path+\"train\",\n",
        "                                              target_size = (picture_size,picture_size),\n",
        "                                              color_mode = \"grayscale\",\n",
        "                                              batch_size=batch_size,\n",
        "                                              class_mode='categorical',\n",
        "                                              shuffle=True)\n",
        "\n",
        "\n",
        "test_set = datagen_val.flow_from_directory(folder_path+\"validation\",\n",
        "                                              target_size = (picture_size,picture_size),\n",
        "                                              color_mode = \"grayscale\",\n",
        "                                              batch_size=batch_size,\n",
        "                                              class_mode='categorical',\n",
        "                                              shuffle=False)"
      ],
      "metadata": {
        "id": "cUTgNhjJxeCo",
        "colab": {
          "base_uri": "https://localhost:8080/"
        },
        "outputId": "33fdf750-f569-431d-a416-65954ce9fcaa"
      },
      "execution_count": null,
      "outputs": [
        {
          "output_type": "stream",
          "name": "stdout",
          "text": [
            "Found 28821 images belonging to 7 classes.\n",
            "Found 7066 images belonging to 7 classes.\n"
          ]
        }
      ]
    },
    {
      "cell_type": "code",
      "source": [
        "no_of_classes = 7\n",
        "dropout_rate = 0.25\n",
        "\n",
        "model = Sequential()\n",
        "\n",
        "#1st CNN layer\n",
        "model.add(Conv2D(64,(3,3),padding = 'same',input_shape = (48,48,1)))\n",
        "model.add(BatchNormalization())\n",
        "model.add(Activation('relu'))\n",
        "model.add(MaxPooling2D(pool_size = (2,2)))\n",
        "model.add(Dropout(dropout_rate))\n",
        "\n",
        "#2nd CNN layer\n",
        "model.add(Conv2D(128,(5,5),padding = 'same'))\n",
        "model.add(BatchNormalization())\n",
        "model.add(Activation('relu'))\n",
        "model.add(MaxPooling2D(pool_size = (2,2)))\n",
        "model.add(Dropout (dropout_rate))\n",
        "\n",
        "#3rd CNN layer\n",
        "model.add(Conv2D(512,(3,3),padding = 'same'))\n",
        "model.add(BatchNormalization())\n",
        "model.add(Activation('relu'))\n",
        "model.add(MaxPooling2D(pool_size = (2,2)))\n",
        "model.add(Dropout (dropout_rate))\n",
        "\n",
        "#4th CNN layer\n",
        "model.add(Conv2D(512,(3,3), padding='same'))\n",
        "model.add(BatchNormalization())\n",
        "model.add(Activation('relu'))\n",
        "model.add(MaxPooling2D(pool_size=(2, 2)))\n",
        "model.add(Dropout(dropout_rate))\n",
        "\n",
        "model.add(Flatten())\n",
        "\n",
        "#Fully connected 1st layer\n",
        "model.add(Dense(256))\n",
        "model.add(BatchNormalization())\n",
        "model.add(Activation('relu'))\n",
        "model.add(Dropout(dropout_rate))\n",
        "\n",
        "\n",
        "# Fully connected layer 2nd layer\n",
        "model.add(Dense(512))\n",
        "model.add(BatchNormalization())\n",
        "model.add(Activation('relu'))\n",
        "model.add(Dropout(dropout_rate))\n",
        "\n",
        "model.add(Dense(no_of_classes, activation='softmax'))\n",
        "\n",
        "\n",
        "\n",
        "opt = Adam(learning_rate = 0.001)"
      ],
      "metadata": {
        "id": "r10cwpBLqF8h"
      },
      "execution_count": null,
      "outputs": []
    },
    {
      "cell_type": "code",
      "source": [
        "model.compile(optimizer=opt,loss='categorical_crossentropy', metrics=['accuracy'])\n",
        "model.summary()"
      ],
      "metadata": {
        "colab": {
          "base_uri": "https://localhost:8080/"
        },
        "id": "2tKmXPEgtDdz",
        "outputId": "713ce71e-0d60-45ff-9ca5-250ddd98d992"
      },
      "execution_count": null,
      "outputs": [
        {
          "output_type": "stream",
          "name": "stdout",
          "text": [
            "Model: \"sequential_6\"\n",
            "_________________________________________________________________\n",
            " Layer (type)                Output Shape              Param #   \n",
            "=================================================================\n",
            " conv2d_25 (Conv2D)          (None, 48, 48, 64)        640       \n",
            "                                                                 \n",
            " batch_normalization_37 (Ba  (None, 48, 48, 64)        256       \n",
            " tchNormalization)                                               \n",
            "                                                                 \n",
            " activation_37 (Activation)  (None, 48, 48, 64)        0         \n",
            "                                                                 \n",
            " max_pooling2d_25 (MaxPooli  (None, 24, 24, 64)        0         \n",
            " ng2D)                                                           \n",
            "                                                                 \n",
            " dropout_37 (Dropout)        (None, 24, 24, 64)        0         \n",
            "                                                                 \n",
            " conv2d_26 (Conv2D)          (None, 24, 24, 128)       204928    \n",
            "                                                                 \n",
            " batch_normalization_38 (Ba  (None, 24, 24, 128)       512       \n",
            " tchNormalization)                                               \n",
            "                                                                 \n",
            " activation_38 (Activation)  (None, 24, 24, 128)       0         \n",
            "                                                                 \n",
            " max_pooling2d_26 (MaxPooli  (None, 12, 12, 128)       0         \n",
            " ng2D)                                                           \n",
            "                                                                 \n",
            " dropout_38 (Dropout)        (None, 12, 12, 128)       0         \n",
            "                                                                 \n",
            " conv2d_27 (Conv2D)          (None, 12, 12, 512)       590336    \n",
            "                                                                 \n",
            " batch_normalization_39 (Ba  (None, 12, 12, 512)       2048      \n",
            " tchNormalization)                                               \n",
            "                                                                 \n",
            " activation_39 (Activation)  (None, 12, 12, 512)       0         \n",
            "                                                                 \n",
            " max_pooling2d_27 (MaxPooli  (None, 6, 6, 512)         0         \n",
            " ng2D)                                                           \n",
            "                                                                 \n",
            " dropout_39 (Dropout)        (None, 6, 6, 512)         0         \n",
            "                                                                 \n",
            " conv2d_28 (Conv2D)          (None, 6, 6, 512)         2359808   \n",
            "                                                                 \n",
            " batch_normalization_40 (Ba  (None, 6, 6, 512)         2048      \n",
            " tchNormalization)                                               \n",
            "                                                                 \n",
            " activation_40 (Activation)  (None, 6, 6, 512)         0         \n",
            "                                                                 \n",
            " max_pooling2d_28 (MaxPooli  (None, 3, 3, 512)         0         \n",
            " ng2D)                                                           \n",
            "                                                                 \n",
            " dropout_40 (Dropout)        (None, 3, 3, 512)         0         \n",
            "                                                                 \n",
            " flatten_6 (Flatten)         (None, 4608)              0         \n",
            "                                                                 \n",
            " dense_18 (Dense)            (None, 256)               1179904   \n",
            "                                                                 \n",
            " batch_normalization_41 (Ba  (None, 256)               1024      \n",
            " tchNormalization)                                               \n",
            "                                                                 \n",
            " activation_41 (Activation)  (None, 256)               0         \n",
            "                                                                 \n",
            " dropout_41 (Dropout)        (None, 256)               0         \n",
            "                                                                 \n",
            " dense_19 (Dense)            (None, 512)               131584    \n",
            "                                                                 \n",
            " batch_normalization_42 (Ba  (None, 512)               2048      \n",
            " tchNormalization)                                               \n",
            "                                                                 \n",
            " activation_42 (Activation)  (None, 512)               0         \n",
            "                                                                 \n",
            " dropout_42 (Dropout)        (None, 512)               0         \n",
            "                                                                 \n",
            " dense_20 (Dense)            (None, 7)                 3591      \n",
            "                                                                 \n",
            "=================================================================\n",
            "Total params: 4478727 (17.08 MB)\n",
            "Trainable params: 4474759 (17.07 MB)\n",
            "Non-trainable params: 3968 (15.50 KB)\n",
            "_________________________________________________________________\n"
          ]
        }
      ]
    },
    {
      "cell_type": "code",
      "source": [
        "from keras.callbacks import ModelCheckpoint, EarlyStopping, ReduceLROnPlateau\n",
        "\n",
        "# Updated the file extension to '.keras' from '.h5'\n",
        "checkpoint = ModelCheckpoint(\"./model.keras\", monitor='val_accuracy', verbose=1, save_best_only=True, mode='max')\n",
        "\n",
        "early_stopping = EarlyStopping(monitor='val_loss',\n",
        "                          min_delta=0,\n",
        "                          patience=3,\n",
        "                          verbose=1,\n",
        "                          restore_best_weights=True\n",
        "                          )\n",
        "\n",
        "reduce_learningrate = ReduceLROnPlateau(monitor='val_loss',\n",
        "                              factor=0.2,\n",
        "                              patience=3,\n",
        "                              verbose=1,\n",
        "                              min_delta=0.0001)\n",
        "\n",
        "callbacks_list = [early_stopping, checkpoint, reduce_learningrate]\n",
        "\n",
        "epochs = 48\n",
        "\n",
        "model.compile(loss='categorical_crossentropy',\n",
        "              optimizer=Adam(learning_rate=0.001),\n",
        "              metrics=['accuracy'])\n"
      ],
      "metadata": {
        "id": "1E5dIHtvtcGb"
      },
      "execution_count": null,
      "outputs": []
    },
    {
      "cell_type": "code",
      "source": [],
      "metadata": {
        "id": "nH-TYc-Ke2DS"
      },
      "execution_count": null,
      "outputs": []
    },
    {
      "cell_type": "code",
      "source": [
        "history = model.fit_generator(generator=train_set,\n",
        "                                steps_per_epoch=train_set.n//train_set.batch_size,\n",
        "                                epochs=epochs,\n",
        "                                validation_data = test_set,\n",
        "                                validation_steps = test_set.n//test_set.batch_size,\n",
        "                                callbacks=callbacks_list\n",
        "                                )"
      ],
      "metadata": {
        "colab": {
          "base_uri": "https://localhost:8080/"
        },
        "id": "pGXsSNniuXY5",
        "outputId": "98c605fd-bb4f-425a-95a9-c442e437ecec"
      },
      "execution_count": null,
      "outputs": [
        {
          "output_type": "stream",
          "name": "stdout",
          "text": [
            "Epoch 1/48\n"
          ]
        },
        {
          "output_type": "stream",
          "name": "stderr",
          "text": [
            "<ipython-input-38-981791b505f2>:1: UserWarning: `Model.fit_generator` is deprecated and will be removed in a future version. Please use `Model.fit`, which supports generators.\n",
            "  history = model.fit_generator(generator=train_set,\n"
          ]
        },
        {
          "output_type": "stream",
          "name": "stdout",
          "text": [
            "225/225 [==============================] - ETA: 0s - loss: 0.7978 - accuracy: 0.6990\n",
            "Epoch 1: val_accuracy did not improve from 0.64787\n",
            "225/225 [==============================] - 17s 76ms/step - loss: 0.7978 - accuracy: 0.6990 - val_loss: 0.9851 - val_accuracy: 0.6460 - lr: 1.6000e-06\n",
            "Epoch 2/48\n",
            "225/225 [==============================] - ETA: 0s - loss: 0.7913 - accuracy: 0.7052\n",
            "Epoch 2: val_accuracy did not improve from 0.64787\n",
            "225/225 [==============================] - 21s 95ms/step - loss: 0.7913 - accuracy: 0.7052 - val_loss: 0.9857 - val_accuracy: 0.6449 - lr: 1.6000e-06\n",
            "Epoch 3/48\n",
            "225/225 [==============================] - ETA: 0s - loss: 0.7908 - accuracy: 0.7038\n",
            "Epoch 3: val_accuracy did not improve from 0.64787\n",
            "225/225 [==============================] - 17s 76ms/step - loss: 0.7908 - accuracy: 0.7038 - val_loss: 0.9848 - val_accuracy: 0.6464 - lr: 1.6000e-06\n",
            "Epoch 4/48\n",
            "225/225 [==============================] - ETA: 0s - loss: 0.7899 - accuracy: 0.7046\n",
            "Epoch 4: val_accuracy did not improve from 0.64787\n",
            "225/225 [==============================] - 16s 73ms/step - loss: 0.7899 - accuracy: 0.7046 - val_loss: 0.9858 - val_accuracy: 0.6455 - lr: 1.6000e-06\n",
            "Epoch 5/48\n",
            "225/225 [==============================] - ETA: 0s - loss: 0.7909 - accuracy: 0.7033\n",
            "Epoch 5: val_accuracy did not improve from 0.64787\n",
            "225/225 [==============================] - 16s 73ms/step - loss: 0.7909 - accuracy: 0.7033 - val_loss: 0.9852 - val_accuracy: 0.6462 - lr: 1.6000e-06\n",
            "Epoch 6/48\n",
            "225/225 [==============================] - ETA: 0s - loss: 0.7863 - accuracy: 0.7039Restoring model weights from the end of the best epoch: 3.\n",
            "\n",
            "Epoch 6: val_accuracy did not improve from 0.64787\n",
            "\n",
            "Epoch 6: ReduceLROnPlateau reducing learning rate to 3.200000264769187e-07.\n",
            "225/225 [==============================] - 17s 75ms/step - loss: 0.7863 - accuracy: 0.7039 - val_loss: 0.9862 - val_accuracy: 0.6472 - lr: 1.6000e-06\n",
            "Epoch 6: early stopping\n"
          ]
        }
      ]
    },
    {
      "cell_type": "code",
      "source": [
        "#4 layers\n",
        "#0.25: 0.64787\n",
        "#0.375: 0.57628\n",
        "#0.5: 0.53977"
      ],
      "metadata": {
        "id": "t30szz9lutZ6"
      },
      "execution_count": null,
      "outputs": []
    },
    {
      "cell_type": "code",
      "source": [
        "model.load_weights('model.keras')\n",
        "score = model.evaluate_generator(test_set)\n",
        "print('Test loss:', score[0])\n",
        "print('Test accuracy:', score[1])"
      ],
      "metadata": {
        "id": "ofbjf2HWJNyO",
        "colab": {
          "base_uri": "https://localhost:8080/"
        },
        "outputId": "520e46c1-f19e-4100-db20-57b1193ab5d4"
      },
      "execution_count": null,
      "outputs": [
        {
          "output_type": "stream",
          "name": "stderr",
          "text": [
            "<ipython-input-41-324b40535c15>:2: UserWarning: `Model.evaluate_generator` is deprecated and will be removed in a future version. Please use `Model.evaluate`, which supports generators.\n",
            "  score = model.evaluate_generator(test_set)\n"
          ]
        },
        {
          "output_type": "stream",
          "name": "stdout",
          "text": [
            "Test loss: 0.9833560585975647\n",
            "Test accuracy: 0.6470421552658081\n"
          ]
        }
      ]
    },
    {
      "cell_type": "code",
      "source": [],
      "metadata": {
        "id": "uQTGKxysUxI_"
      },
      "execution_count": null,
      "outputs": []
    }
  ]
}